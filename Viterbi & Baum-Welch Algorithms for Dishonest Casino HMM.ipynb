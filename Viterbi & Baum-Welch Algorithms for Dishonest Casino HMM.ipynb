{
 "cells": [
  {
   "cell_type": "markdown",
   "id": "4c7c7bd7",
   "metadata": {},
   "source": [
    "### Problem 1 ###"
   ]
  },
  {
   "cell_type": "code",
   "execution_count": 1,
   "id": "ee829199",
   "metadata": {},
   "outputs": [],
   "source": [
    "import numpy as np\n",
    "import torch "
   ]
  },
  {
   "cell_type": "code",
   "execution_count": 2,
   "id": "64b15553",
   "metadata": {},
   "outputs": [],
   "source": [
    "x = np.genfromtxt(\"C:\\\\Users\\\\sraba\\\\OneDrive\\\\Documents\\\\ML_Barbu\\\\Datasets\\\\hmm_pb1.csv\", delimiter=',',dtype=int)"
   ]
  },
  {
   "cell_type": "code",
   "execution_count": 3,
   "id": "1ee8f27c",
   "metadata": {
    "scrolled": true
   },
   "outputs": [
    {
     "data": {
      "text/plain": [
       "array([1, 2, 5, 5, 1, 3, 6, 3, 2, 3, 6, 6, 1, 3, 3, 2, 3, 4, 3, 1, 2, 2,\n",
       "       4, 2, 5, 6, 3, 2, 1, 5, 5, 2, 2, 5, 3, 4, 1, 6, 6, 1, 5, 5, 2, 6,\n",
       "       2, 1, 1, 3, 6, 1, 4, 3, 1, 2, 2, 6, 3, 3, 1, 2, 1, 6, 4, 3, 2, 3,\n",
       "       1, 1, 5, 1, 2, 4, 1, 3, 2, 6, 1, 6, 6, 1, 6, 6, 5, 4, 6, 5, 2, 3,\n",
       "       3, 1, 5, 6, 2, 6, 3, 6, 6, 3, 3, 3, 6, 6, 6, 6, 5, 1, 2, 6, 6, 6,\n",
       "       2, 6, 6, 6, 3, 5, 2, 6, 3, 6, 2, 6, 6, 1, 3, 1, 1, 4, 5, 6, 2, 3,\n",
       "       1, 3, 6, 2, 6, 6, 3, 5, 4, 5, 6, 3, 3, 2, 6, 2, 6, 3, 3, 2, 5, 3,\n",
       "       6, 5, 3, 5, 2, 1, 3, 6, 2, 5, 5, 1, 6, 6, 6, 6, 1, 5, 2, 4, 6, 1,\n",
       "       2, 4, 3, 1, 3, 3, 1, 2, 2, 6, 6, 6, 5, 4, 3, 3, 3, 6, 3, 2, 2, 3,\n",
       "       1, 4, 5, 5, 2, 5, 4, 3, 1, 6, 1, 2, 6, 4, 2, 6, 6, 3, 1, 2, 6, 5,\n",
       "       5, 6, 6, 6, 6, 6, 6, 6, 3, 6, 6, 6, 6, 6, 6, 6, 6, 6, 6, 6, 6, 4,\n",
       "       4, 6, 6, 2, 2, 6, 6, 3, 6, 6, 2, 5, 6, 3, 6, 4, 4, 6, 6, 6, 6, 2,\n",
       "       4, 6, 2, 6, 6, 6, 6, 6, 6, 4, 3])"
      ]
     },
     "execution_count": 3,
     "metadata": {},
     "output_type": "execute_result"
    }
   ],
   "source": [
    "x"
   ]
  },
  {
   "cell_type": "code",
   "execution_count": 4,
   "id": "8b624da8",
   "metadata": {},
   "outputs": [
    {
     "data": {
      "text/plain": [
       "(275,)"
      ]
     },
     "execution_count": 4,
     "metadata": {},
     "output_type": "execute_result"
    }
   ],
   "source": [
    "x.shape"
   ]
  },
  {
   "cell_type": "code",
   "execution_count": 5,
   "id": "b7e57faa",
   "metadata": {},
   "outputs": [],
   "source": [
    "a_k = torch.tensor([[0.9500, 0.0500], [0.0500, 0.9500]])\n",
    "b_k = torch.tensor([[1/6, 1/6, 1/6, 1/6, 1/6, 1/6], [1/10, 1/10, 1/10, 1/10, 1/10, 1/2]])\n",
    "Pi_k = torch.tensor([0.5, 0.5])"
   ]
  },
  {
   "cell_type": "code",
   "execution_count": 6,
   "id": "d6465e08",
   "metadata": {},
   "outputs": [
    {
     "data": {
      "text/plain": [
       "tensor([[0.9500, 0.0500],\n",
       "        [0.0500, 0.9500]])"
      ]
     },
     "execution_count": 6,
     "metadata": {},
     "output_type": "execute_result"
    }
   ],
   "source": [
    "a_k"
   ]
  },
  {
   "cell_type": "code",
   "execution_count": 7,
   "id": "5a17526a",
   "metadata": {},
   "outputs": [
    {
     "data": {
      "text/plain": [
       "tensor([[0.1667, 0.1667, 0.1667, 0.1667, 0.1667, 0.1667],\n",
       "        [0.1000, 0.1000, 0.1000, 0.1000, 0.1000, 0.5000]])"
      ]
     },
     "execution_count": 7,
     "metadata": {},
     "output_type": "execute_result"
    }
   ],
   "source": [
    "b_k"
   ]
  },
  {
   "cell_type": "code",
   "execution_count": 8,
   "id": "d298cb90",
   "metadata": {},
   "outputs": [
    {
     "data": {
      "text/plain": [
       "tensor([0.5000, 0.5000])"
      ]
     },
     "execution_count": 8,
     "metadata": {},
     "output_type": "execute_result"
    }
   ],
   "source": [
    "Pi_k"
   ]
  },
  {
   "cell_type": "code",
   "execution_count": 9,
   "id": "9bf3b078",
   "metadata": {},
   "outputs": [],
   "source": [
    "def viterbi(x,a_k,b_k,Pi_k):\n",
    "    \n",
    "    C_k = torch.zeros(2,x.size)\n",
    "    P_tr_k = torch.zeros(2,x.size).long()\n",
    "    C_k[:,0] = torch.log(b_k[:,x[0]]*Pi_k)\n",
    "    \n",
    "    for t in range(1,x.size):\n",
    "        for k in range(2):\n",
    "            maximizing_portion = torch.log(a_k[:,k]) + C_k[:,t-1]\n",
    "            C_k[k,t] = torch.log(b_k[k,x[t]-1]) + torch.max(maximizing_portion)\n",
    "            P_tr_k[k,t] = torch.argmax(maximizing_portion)\n",
    "            \n",
    "    P = torch.exp(torch.max(C_k,1).values)\n",
    "    \n",
    "    y=torch.ones(x.size).long()\n",
    "    y[x.size-1]=torch.argmax(C_k[:,x.size-1]) + 1\n",
    "    for t in range(x.size-1,0,-1):\n",
    "        y[t-1]=P_tr_k[y[t]-1,t] + 1\n",
    "    return y"
   ]
  },
  {
   "cell_type": "code",
   "execution_count": 10,
   "id": "2dcdee7e",
   "metadata": {},
   "outputs": [],
   "source": [
    "y = viterbi(x,a_k,b_k,Pi_k)"
   ]
  },
  {
   "cell_type": "code",
   "execution_count": 11,
   "id": "7fdf278a",
   "metadata": {},
   "outputs": [
    {
     "data": {
      "text/plain": [
       "tensor([1, 1, 1, 1, 1, 1, 1, 1, 1, 1, 1, 1, 1, 1, 1, 1, 1, 1, 1, 1, 1, 1, 1, 1,\n",
       "        1, 1, 1, 1, 1, 1, 1, 1, 1, 1, 1, 1, 1, 1, 1, 1, 1, 1, 1, 1, 1, 1, 1, 1,\n",
       "        1, 1, 1, 1, 1, 1, 1, 1, 1, 1, 1, 1, 1, 1, 1, 1, 1, 1, 1, 1, 1, 1, 1, 1,\n",
       "        1, 1, 1, 2, 2, 2, 2, 2, 2, 2, 2, 2, 2, 2, 2, 2, 2, 2, 2, 2, 2, 2, 2, 2,\n",
       "        2, 2, 2, 2, 2, 2, 2, 2, 2, 2, 2, 2, 2, 2, 2, 2, 2, 2, 2, 2, 2, 2, 2, 2,\n",
       "        2, 2, 2, 1, 1, 1, 1, 1, 1, 1, 1, 1, 1, 1, 1, 1, 1, 1, 1, 1, 1, 1, 1, 1,\n",
       "        1, 1, 1, 1, 1, 1, 1, 1, 1, 1, 1, 1, 1, 1, 1, 1, 1, 1, 1, 1, 1, 1, 1, 1,\n",
       "        1, 1, 1, 1, 1, 1, 1, 1, 1, 1, 1, 1, 1, 1, 1, 1, 1, 1, 1, 1, 1, 1, 1, 1,\n",
       "        1, 1, 1, 1, 1, 1, 1, 1, 1, 1, 1, 1, 1, 1, 1, 2, 2, 2, 2, 2, 2, 2, 2, 2,\n",
       "        2, 2, 2, 2, 2, 2, 2, 2, 2, 2, 2, 2, 2, 2, 2, 2, 2, 2, 2, 2, 2, 2, 2, 2,\n",
       "        2, 2, 2, 2, 2, 2, 2, 2, 2, 2, 2, 2, 2, 2, 2, 2, 2, 2, 2, 2, 2, 2, 2, 2,\n",
       "        2, 2, 2, 2, 2, 2, 2, 2, 2, 2, 2])"
      ]
     },
     "execution_count": 11,
     "metadata": {},
     "output_type": "execute_result"
    }
   ],
   "source": [
    "y"
   ]
  },
  {
   "cell_type": "code",
   "execution_count": 12,
   "id": "4069e6a8",
   "metadata": {},
   "outputs": [],
   "source": [
    "def FWD(x,a_k,b_k,Pi_k):\n",
    "    alpha=torch.zeros(2,x.size)\n",
    "    alpha[:,0]=b_k[:,x[0]-1]*Pi_k\n",
    "    for t in range(1,x.size):\n",
    "        alpha[:,t] = b_k[:,x[t]-1]*(a_k@alpha[:,t-1])\n",
    "        alpha[:,t] = alpha[:,t]/torch.sum(alpha[:,t])\n",
    "    return alpha"
   ]
  },
  {
   "cell_type": "code",
   "execution_count": 13,
   "id": "1b44489d",
   "metadata": {},
   "outputs": [],
   "source": [
    "def BWD(x,a_k,b_k):\n",
    "    beta=torch.ones(2,x.size)\n",
    "    for t in range(x.size-2,-1,-1):\n",
    "        beta[:,t] = a_k@(b_k[:,x[t+1]-1]*beta[:,t+1])\n",
    "        beta[:,t] = beta[:,t]/torch.sum(beta[:,t])\n",
    "    return beta"
   ]
  },
  {
   "cell_type": "code",
   "execution_count": 14,
   "id": "ee50b394",
   "metadata": {},
   "outputs": [],
   "source": [
    "alpha = FWD(x,a_k,b_k,Pi_k)\n",
    "beta = BWD(x,a_k,b_k)"
   ]
  },
  {
   "cell_type": "code",
   "execution_count": 15,
   "id": "e3473ddf",
   "metadata": {},
   "outputs": [
    {
     "data": {
      "text/plain": [
       "tensor(0.4383)"
      ]
     },
     "execution_count": 15,
     "metadata": {},
     "output_type": "execute_result"
    }
   ],
   "source": [
    "alpha[0,118]/alpha[1,118]"
   ]
  },
  {
   "cell_type": "code",
   "execution_count": 16,
   "id": "4838331b",
   "metadata": {},
   "outputs": [
    {
     "data": {
      "text/plain": [
       "tensor(0.3913)"
      ]
     },
     "execution_count": 16,
     "metadata": {},
     "output_type": "execute_result"
    }
   ],
   "source": [
    "beta[0,118]/beta[1,118]"
   ]
  },
  {
   "cell_type": "markdown",
   "id": "68ed16e8",
   "metadata": {},
   "source": [
    "### Problem 2 ###"
   ]
  },
  {
   "cell_type": "code",
   "execution_count": 17,
   "id": "eb79317f",
   "metadata": {},
   "outputs": [],
   "source": [
    "x_next = np.genfromtxt(\"C:\\\\Users\\\\sraba\\\\OneDrive\\\\Documents\\\\ML_Barbu\\\\Datasets\\\\hmm_pb2.csv\", delimiter=',',dtype=int)"
   ]
  },
  {
   "cell_type": "code",
   "execution_count": 18,
   "id": "9d9a0ee9",
   "metadata": {},
   "outputs": [
    {
     "data": {
      "text/plain": [
       "array([6, 4, 2, ..., 1, 3, 3])"
      ]
     },
     "execution_count": 18,
     "metadata": {},
     "output_type": "execute_result"
    }
   ],
   "source": [
    "x_next"
   ]
  },
  {
   "cell_type": "code",
   "execution_count": 19,
   "id": "c5fb4178",
   "metadata": {},
   "outputs": [],
   "source": [
    "a = a_k.clone()\n",
    "b = b_k.clone()\n",
    "Pi = torch.tensor([0.7, 0.3])"
   ]
  },
  {
   "cell_type": "raw",
   "id": "58bf7a9c",
   "metadata": {},
   "source": [
    "a = torch.tensor([[0.5, 0.5], [0.5, 0.5]])\n",
    "b = torch.tensor([[1/6, 1/6, 1/6, 1/6, 1/6, 1/6], [1/6, 1/6, 1/6, 1/6, 1/6, 1/6]])\n",
    "Pi = torch.tensor([0.5, 0.5])"
   ]
  },
  {
   "cell_type": "code",
   "execution_count": 20,
   "id": "360861a5",
   "metadata": {},
   "outputs": [],
   "source": [
    "for n in range(1001):\n",
    "\n",
    "    alpha = FWD(x_next,a,b,Pi)\n",
    "    beta = BWD(x_next,a,b)\n",
    "\n",
    "    xi_t = alpha[:,0:x_next.size-1].unsqueeze(1)*a.unsqueeze(2)*beta[:,1:x_next.size].unsqueeze(0)*b[:,x_next[1:x_next.size]-1].unsqueeze(0)\n",
    "    xi_t = xi_t/torch.sum(xi_t,(0,1),keepdim=True)\n",
    "\n",
    "    gamma_t = alpha*beta\n",
    "    gamma_t = gamma_t/torch.sum(gamma_t,axis=0,keepdim=True)\n",
    "\n",
    "    Pi = gamma_t[:,0]\n",
    "    \n",
    "    gamma_t1 = gamma_t[:,0:9999].unsqueeze(1)\n",
    "    a = torch.sum(xi_t,axis=2)/torch.sum(gamma_t1,axis=2)\n",
    "\n",
    "    for l in range(b.shape[1]):\n",
    "        b[:, l] = torch.sum(gamma_t[:,x_next-1 == l], axis=1)\n",
    "    b = b/torch.sum(gamma_t, axis=1).reshape(-1,1)\n",
    "    \n",
    "#    print(a,\"\\n\",b,\"\\n\",Pi)"
   ]
  },
  {
   "cell_type": "code",
   "execution_count": 21,
   "id": "d4a3692e",
   "metadata": {},
   "outputs": [
    {
     "data": {
      "text/plain": [
       "tensor([1.0000e+00, 2.3822e-44])"
      ]
     },
     "execution_count": 21,
     "metadata": {},
     "output_type": "execute_result"
    }
   ],
   "source": [
    "Pi"
   ]
  },
  {
   "cell_type": "code",
   "execution_count": 22,
   "id": "f055d339",
   "metadata": {},
   "outputs": [
    {
     "data": {
      "text/plain": [
       "tensor([[0.8639, 0.1361],\n",
       "        [0.1433, 0.8567]])"
      ]
     },
     "execution_count": 22,
     "metadata": {},
     "output_type": "execute_result"
    }
   ],
   "source": [
    "a"
   ]
  },
  {
   "cell_type": "code",
   "execution_count": 23,
   "id": "81a3da1d",
   "metadata": {},
   "outputs": [
    {
     "data": {
      "text/plain": [
       "tensor([[0.2301, 0.2111, 0.1912, 0.2293, 0.0486, 0.0898],\n",
       "        [0.1633, 0.1929, 0.1860, 0.1614, 0.1998, 0.0966]])"
      ]
     },
     "execution_count": 23,
     "metadata": {},
     "output_type": "execute_result"
    }
   ],
   "source": [
    "b"
   ]
  },
  {
   "cell_type": "raw",
   "id": "4046cfa0",
   "metadata": {},
   "source": [
    "###Website referred to:"
   ]
  },
  {
   "cell_type": "raw",
   "id": "0f253fd6",
   "metadata": {},
   "source": [
    "http://www.adeveloperdiary.com/data-science/machine-learning/implement-viterbi-algorithm-in-hidden-markov-model-using-python-and-r/"
   ]
  }
 ],
 "metadata": {
  "kernelspec": {
   "display_name": "Python 3 (ipykernel)",
   "language": "python",
   "name": "python3"
  },
  "language_info": {
   "codemirror_mode": {
    "name": "ipython",
    "version": 3
   },
   "file_extension": ".py",
   "mimetype": "text/x-python",
   "name": "python",
   "nbconvert_exporter": "python",
   "pygments_lexer": "ipython3",
   "version": "3.10.1"
  }
 },
 "nbformat": 4,
 "nbformat_minor": 5
}
